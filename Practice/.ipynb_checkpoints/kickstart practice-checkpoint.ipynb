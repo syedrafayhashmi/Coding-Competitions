{
 "cells": [
  {
   "cell_type": "code",
   "execution_count": null,
   "metadata": {},
   "outputs": [],
   "source": [
    "# input() reads a string with a line of input, stripping the ' ' (newline) at the end.\n",
    "# This is all you need for most Code Jam problems.\n",
    "t = int(input()) # read a line with a single integer\n",
    "for i in range(1, t + 1):\n",
    "  n, m = [int(s) for s in input().split(\" \")] # read a list of integers, 2 in this case\n",
    "  print(\"Case #{}: {} {}\".format(i, n + m, n * m))\n",
    "  # check out .format's specification for more formatting options"
   ]
  },
  {
   "cell_type": "code",
   "execution_count": null,
   "metadata": {},
   "outputs": [],
   "source": [
    "import pandas as pd\n",
    "import numpy as np\n",
    "data  = input()\n",
    "print(data)"
   ]
  },
  {
   "cell_type": "code",
   "execution_count": null,
   "metadata": {},
   "outputs": [],
   "source": [
    "\n",
    "from itertools import combinations \n",
    "\n",
    "\n",
    "test_list = [3, 1, 9, 100]\n",
    "\n",
    "\n",
    "\n",
    "\n",
    "3\n"
   ]
  },
  {
   "cell_type": "code",
   "execution_count": null,
   "metadata": {},
   "outputs": [],
   "source": [
    "import itertools\n",
    "hours = 0\n",
    "inp = int(input())\n",
    "for x in range(1,inp+1):\n",
    "    N, P = map(int,input().split(\" \"))\n",
    "    S = map(int, input().split(\" \"))\n",
    "    res = min(combinations(S, P), key = lambda sub: abs(sub[0]-sub[1]))\n",
    "    for y in range(len(res)):\n",
    "        hours += max(res) - res[y]\n",
    "    print(\"Case #{}: {}\".format(x, hours))\n",
    "    hours = 0"
   ]
  },
  {
   "cell_type": "code",
   "execution_count": null,
   "metadata": {},
   "outputs": [],
   "source": [
    "from itertools import combinations\n",
    "hours = 0\n",
    "inp = int(input())\n",
    "for x in range(1,inp+1):\n",
    "    N, P = map(int,input().split(\" \"))\n",
    "    S = map(int, input().split(\" \"))\n",
    "    res = min(combinations(S, P), key = lambda sub: abs(sub[0]-sub[1]))\n",
    "    for y in range(len(res)):\n",
    "        hours += max(res) - res[y]\n",
    "    print(\"Case #{}: {}\".format(x, hours))\n",
    "    hours = 0"
   ]
  },
  {
   "cell_type": "code",
   "execution_count": null,
   "metadata": {},
   "outputs": [],
   "source": [
    "\n",
    "Output\n",
    " \n",
    "3\n",
    "4 3`\n",
    "3 1 9 100\n",
    "6 2\n",
    "5 5 1 2 3 4\n",
    "5 5\n",
    "7 7 1 7 7\n"
   ]
  },
  {
   "cell_type": "code",
   "execution_count": null,
   "metadata": {},
   "outputs": [],
   "source": [
    "i = int(input())\n",
    "for x in range(1,i+1):\n",
    "    dig = input()\n",
    "    count = 0\n",
    "    if dig%2 == 0:\n",
    "        print(\"Case #{}: {}\".format(x, count))\n",
    "        continue\n",
    "    if dig%2 == 1:\n",
    "        while(dig%2 == 1):\n",
    "            dig-=1\n",
    "            count+=1\n",
    "        print(\"Case #{}: {}\".format(x, count))\n",
    "        count = 0\n",
    "    "
   ]
  },
  {
   "cell_type": "markdown",
   "metadata": {},
   "source": [
    "Input \tOutput\n",
    "4\n",
    "42\n",
    "11\n",
    "1\n",
    "2018  \n",
    "Case #1: 0\n",
    "Case #2: 3\n",
    "Case #3: 1\n",
    "Case #4: 2"
   ]
  },
  {
   "cell_type": "code",
   "execution_count": null,
   "metadata": {},
   "outputs": [],
   "source": [
    "i = int(input())\n",
    "for x in range(1,i+1):\n",
    "    dig = input()\n",
    "    dig2 = dig\n",
    "    count = 0\n",
    "    count2 = 0\n",
    "    for y in range(len(dig)):\n",
    "        if int(dig[y]) % 2 == 1:\n",
    "            while(int(dig[y]) % 2 == 1):\n",
    "                count+=1\n",
    "                dig = int(dig)\n",
    "                dig+=1\n",
    "                dig = str(dig)\n",
    "    for z in range(len(dig2)):\n",
    "        if int(dig2[z]) % 2 == 1:\n",
    "            while(int(dig2[z]) % 2 == 1):\n",
    "                count2+=1\n",
    "                dig2 = int(dig2)\n",
    "                dig2-=1\n",
    "                dig2 = str(dig2)\n",
    "    print(\"Case #{}: {}\".format(x, min(count,count2)))\n"
   ]
  },
  {
   "cell_type": "code",
   "execution_count": null,
   "metadata": {},
   "outputs": [],
   "source": []
  },
  {
   "cell_type": "code",
   "execution_count": null,
   "metadata": {},
   "outputs": [],
   "source": [
    "i = int(input())\n",
    "for x in range(1,i+1):\n",
    "    dig = input()\n",
    "    dig2 = dig\n",
    "    looptime = len(dig)\n",
    "    count = 0\n",
    "    count2 = 0\n",
    "    for y in range(looptime): \n",
    "        if int(dig[y]) % 2 == 1:\n",
    "            while(int(dig[y]) % 2 == 1):\n",
    "                count+=1\n",
    "                dig = int(dig)\n",
    "                dig+=1\n",
    "                dig = str(dig)\n",
    "    try:\n",
    "        for a in range(looptime):\n",
    "            if int(dig2[a]) % 2 == 1:\n",
    "                while(int(dig2[a]) % 2 == 1):\n",
    "                    count2+=1\n",
    "                    dig2 = int(dig2)\n",
    "                    dig2-=1\n",
    "                    dig2 = str(dig2)\n",
    "    except IndexError:\n",
    "        pass\n",
    "                \n",
    "    print(\"Case #{}: {}\".format(x, min(count,count2)))\n"
   ]
  },
  {
   "cell_type": "code",
   "execution_count": null,
   "metadata": {},
   "outputs": [],
   "source": [
    "looptime ==len(dig2)"
   ]
  },
  {
   "cell_type": "code",
   "execution_count": null,
   "metadata": {},
   "outputs": [],
   "source": []
  }
 ],
 "metadata": {
  "kernelspec": {
   "display_name": "Python 3",
   "language": "python",
   "name": "python3"
  },
  "language_info": {
   "codemirror_mode": {
    "name": "ipython",
    "version": 3
   },
   "file_extension": ".py",
   "mimetype": "text/x-python",
   "name": "python",
   "nbconvert_exporter": "python",
   "pygments_lexer": "ipython3",
   "version": "3.7.3"
  }
 },
 "nbformat": 4,
 "nbformat_minor": 2
}
