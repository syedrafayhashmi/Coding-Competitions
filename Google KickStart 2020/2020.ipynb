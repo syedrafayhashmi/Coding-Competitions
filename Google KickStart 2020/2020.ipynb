{
 "cells": [
  {
   "cell_type": "code",
   "execution_count": null,
   "metadata": {},
   "outputs": [],
   "source": [
    "\n",
    "3\n",
    "4 100\n",
    "20 90 40 90\n",
    "4 50\n",
    "30 30 10 10\n",
    "3 300\n",
    "999 999 999\n",
    "\n",
    "  \n",
    "Case #1: 2\n",
    "Case #2: 3\n",
    "Case #3: 0\n",
    "\n",
    "  "
   ]
  },
  {
   "cell_type": "code",
   "execution_count": null,
   "metadata": {},
   "outputs": [],
   "source": [
    "if __name__ == \"__main__\":\n",
    "    inp = int(input())\n",
    "    for x in range(1,inp+1):\n",
    "        N, B = map(int,input().split(\" \"))\n",
    "        A = list(map(int, input().split(\" \")))\n",
    "        houses = 0\n",
    "        house_sum = 0\n",
    "        for a in A:\n",
    "            houses +=1\n",
    "            house_sum += a\n",
    "            if house_sum > B:\n",
    "                house_sum -= a\n",
    "                houses -=1\n",
    "        print(\"Case #{}: {}\".format(x,houses),flush=True)"
   ]
  },
  {
   "cell_type": "code",
   "execution_count": null,
   "metadata": {},
   "outputs": [],
   "source": [
    "Sorry, but in the interest of fairness, we cannot help individual contestants figure out why they received a particular judgment. For a more detailed explanation of what each verdict means, please see the Submitting section of our FAQ: https://codingcompetitions.withgoogle.com/codejam/faq"
   ]
  },
  {
   "cell_type": "code",
   "execution_count": null,
   "metadata": {},
   "outputs": [],
   "source": []
  },
  {
   "cell_type": "code",
   "execution_count": null,
   "metadata": {},
   "outputs": [
    {
     "name": "stdout",
     "output_type": "stream",
     "text": [
      "2\n",
      "5 4\n",
      "Case #1: 9 20\n"
     ]
    }
   ],
   "source": [
    "# input() reads a string with a line of input, stripping the ' ' (newline) at the end.\n",
    "# This is all you need for most Code Jam problems.\n",
    "t = int(input()) # read a line with a single integer\n",
    "for i in range(1, t + 1):\n",
    "    n, m = [int(s) for s in input().split(\" \")] # read a list of integers, 2 in this case\n",
    "    print(\"Case #{}: {} {}\".format(i, n + m, n * m))\n",
    "      # check out .format's specification for more formatting options"
   ]
  },
  {
   "cell_type": "code",
   "execution_count": null,
   "metadata": {},
   "outputs": [],
   "source": [
    "for a in A:\n",
    "        houses +=1\n",
    "        house_sum += a\n",
    "        if house_sum > B:\n",
    "            house_sum -= a\n",
    "            houses -=a\n"
   ]
  },
  {
   "cell_type": "code",
   "execution_count": null,
   "metadata": {},
   "outputs": [],
   "source": [
    "res = min(combinations(S, P), key = lambda sub: abs(sub[0]-sub[1]))\n",
    "    for y in range(len(res)):\n",
    "        hours += max(res) - res[y]\n",
    "    print(\"Case #{}: {}\".format(x, hours))\n",
    "    hours = 0"
   ]
  }
 ],
 "metadata": {
  "kernelspec": {
   "display_name": "Python 3",
   "language": "python",
   "name": "python3"
  },
  "language_info": {
   "codemirror_mode": {
    "name": "ipython",
    "version": 3
   },
   "file_extension": ".py",
   "mimetype": "text/x-python",
   "name": "python",
   "nbconvert_exporter": "python",
   "pygments_lexer": "ipython3",
   "version": "3.7.3"
  }
 },
 "nbformat": 4,
 "nbformat_minor": 2
}
