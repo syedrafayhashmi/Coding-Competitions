{
 "cells": [
  {
   "cell_type": "code",
   "execution_count": 13,
   "metadata": {},
   "outputs": [],
   "source": [
    "lists = []\n",
    "import csv\n",
    "with open(\"./a_example.in\", newline = '\\n') as data:\n",
    "    data_reader = csv.reader(data, delimiter=\" \")\n",
    "    for line in data_reader:\n",
    "        lists.append(line)"
   ]
  },
  {
   "cell_type": "code",
   "execution_count": 14,
   "metadata": {},
   "outputs": [
    {
     "data": {
      "text/plain": [
       "['17', '4']"
      ]
     },
     "execution_count": 14,
     "metadata": {},
     "output_type": "execute_result"
    }
   ],
   "source": [
    "line1 = lists[0]\n",
    "line1"
   ]
  },
  {
   "cell_type": "code",
   "execution_count": 15,
   "metadata": {},
   "outputs": [],
   "source": [
    "line2 = lists[1]\n"
   ]
  },
  {
   "cell_type": "code",
   "execution_count": 16,
   "metadata": {},
   "outputs": [],
   "source": [
    "\n",
    "for x in line2[::-1]:\n",
    "    pass\n"
   ]
  },
  {
   "cell_type": "code",
   "execution_count": 17,
   "metadata": {},
   "outputs": [],
   "source": [
    "line2i = []\n",
    "for x in line2:\n",
    "    line2i.append(int(x))\n"
   ]
  },
  {
   "cell_type": "code",
   "execution_count": 18,
   "metadata": {},
   "outputs": [
    {
     "data": {
      "text/plain": [
       "[17, 4]"
      ]
     },
     "execution_count": 18,
     "metadata": {},
     "output_type": "execute_result"
    }
   ],
   "source": [
    "line1i = []\n",
    "for x in line1:\n",
    "    line1i.append(int(x))\n",
    "line1i"
   ]
  },
  {
   "cell_type": "code",
   "execution_count": null,
   "metadata": {},
   "outputs": [],
   "source": []
  },
  {
   "cell_type": "code",
   "execution_count": 149,
   "metadata": {},
   "outputs": [
    {
     "name": "stdout",
     "output_type": "stream",
     "text": [
      "Score: 4500\n"
     ]
    }
   ],
   "source": [
    "lists = []\n",
    "import csv\n",
    "with open(\"./c_medium.in\", newline = '\\n') as data:\n",
    "    data_reader = csv.reader(data, delimiter=\" \")\n",
    "    for line in data_reader:\n",
    "        lists.append(line)\n",
    "line1 = lists[0]\n",
    "line2 = lists[1]\n",
    "\n",
    "line2i = []\n",
    "for x in line2:\n",
    "    line2i.append(int(x))\n",
    "\n",
    "line1i = []\n",
    "for x in line1:\n",
    "    line1i.append(int(x))\n",
    "\n",
    "sumvaluelist = []\n",
    "type_of_pizza  = []\n",
    "\n",
    "for i in range(-1,-len(line2i)-1,-1):\n",
    "    sumvalue = 0\n",
    "    temp_type = []\n",
    "    for x in line2i[i::-1]:\n",
    "        sumvalue+=x\n",
    "        if sumvalue == line1i[0]:\n",
    "            temp_type.append(x)\n",
    "            break\n",
    "        if sumvalue > line1i[0]:\n",
    "            sumvalue -= x\n",
    "            continue\n",
    "        if sumvalue < line1i[0]:\n",
    "            temp_type.append(x)\n",
    "            continue # for less than sum value\n",
    "    type_of_pizza.append(temp_type)\n",
    "    sumvaluelist.append(sumvalue)\n",
    "print(f\"Score: {max(sumvaluelist)}\")\n",
    "\n",
    "index_final_type = sumvaluelist.index(max(sumvaluelist))\n",
    "selected_pizzas  = type_of_pizza[index_final_type][::-1] # for reversing\n",
    "wrtfile = [] \n",
    "final_pizza_types =  0\n",
    "\n",
    "for pizza in selected_pizzas:\n",
    "    wrtfile.append(str(line2i.index(pizza)))\n",
    "l1 = str(len(wrtfile))\n",
    "l2 = wrtfile \n",
    "\n"
   ]
  },
  {
   "cell_type": "code",
   "execution_count": null,
   "metadata": {},
   "outputs": [],
   "source": []
  },
  {
   "cell_type": "code",
   "execution_count": 15,
   "metadata": {},
   "outputs": [
    {
     "name": "stdout",
     "output_type": "stream",
     "text": [
      "8 0\n",
      "6 1\n",
      "5 2\n",
      "2 3\n",
      "6 0\n",
      "5 1\n",
      "2 2\n",
      "5 0\n",
      "2 1\n",
      "2 0\n",
      "Score: 16\n"
     ]
    }
   ],
   "source": [
    "fileslist = []\n",
    "lists = []\n",
    "import csv\n",
    "with open(\"./a_example.in\", newline = '\\n') as data:\n",
    "    data_reader = csv.reader(data, delimiter=\" \")\n",
    "    for line in data_reader:\n",
    "        lists.append(line)\n",
    "\n",
    "line1 = lists[0]\n",
    "\n",
    "line2 = lists[1]\n",
    "\n",
    "line2i = []\n",
    "for x in line2:\n",
    "    line2i.append(int(x))\n",
    "    \n",
    "line1i = []\n",
    "for x in line1:\n",
    "    line1i.append(int(x))\n",
    "\n",
    "sumvaluelist = []\n",
    "type_of_pizza  = []\n",
    "wrtfile = []\n",
    "for i in range(-1,-len(line2i)-1,-1):\n",
    "    \n",
    "    sumvalue = 0\n",
    "    temp_type = []\n",
    "    for x in range(0,len(line2i[i::-1])):\n",
    "        sumvalue+=line2i[i::-1][x]\n",
    "        print(line2i[i::-1][x],x)\n",
    "        \n",
    "        if sumvalue == line1i[0]:\n",
    "            temp_type.append(x)\n",
    "            \n",
    "            break\n",
    "        if sumvalue > line1i[0]:\n",
    "            sumvalue -= x\n",
    "            \n",
    "            continue\n",
    "        if sumvalue < line1i[0]:\n",
    "            temp_type.append(x)\n",
    "            \n",
    "            continue # for less than sum value\n",
    "    type_of_pizza.append(temp_type)\n",
    "    sumvaluelist.append(sumvalue)\n",
    "print(f\"Score: {max(sumvaluelist)}\")\n",
    "index_final_type = sumvaluelist.index(max(sumvaluelist))\n",
    "selected_pizzas  = type_of_pizza[index_final_type][::-1] # for reversing\n",
    "#wrtfile = [] \n",
    "final_pizza_types =  0\n",
    "\n",
    "#print(line2i)\n",
    "#for pizza in selected_pizzas:\n",
    "#    for ind in range(0, len(line2i)) : \n",
    "#        if line2i[ind] == pizza:\n",
    "#            #line2i[ind] = 0\n",
    "#            wrtfile.append(str(ind))\n",
    "            \n",
    "\n",
    "l1 = str(len(wrtfile))\n",
    "l2 = wrtfile \n",
    "with open('a_example.out', 'w+') as the_file:\n",
    "    the_file.write(l1)\n",
    "    the_file.write(\"\\n\")\n",
    "    for val in l2:\n",
    "        the_file.write(str(val))\n",
    "        the_file.write(\" \")\n",
    "#print(\"Selected Pizzas:\",selected_pizzas)\n",
    "#print(\"line2i:\",line2i)\n",
    "#print(l2)"
   ]
  },
  {
   "cell_type": "code",
   "execution_count": 196,
   "metadata": {},
   "outputs": [
    {
     "data": {
      "text/plain": [
       "195"
      ]
     },
     "execution_count": 196,
     "metadata": {},
     "output_type": "execute_result"
    }
   ],
   "source": [
    "#use indexes with the if else condition\n",
    "line2i[49]"
   ]
  },
  {
   "cell_type": "code",
   "execution_count": 141,
   "metadata": {},
   "outputs": [
    {
     "name": "stdout",
     "output_type": "stream",
     "text": [
      "17 4\n",
      "\n",
      "2 5 6 8\n",
      "\n"
     ]
    }
   ],
   "source": [
    "f = open(\"a_example.in\",\"r\")\n",
    "a = list()\n",
    "for x in f:\n",
    "    a.append(x)\n",
    "    print(x)"
   ]
  },
  {
   "cell_type": "code",
   "execution_count": 154,
   "metadata": {},
   "outputs": [
    {
     "name": "stdout",
     "output_type": "stream",
     "text": [
      "Score: 16\n",
      "Score: 100\n",
      "Score: 4500\n",
      "Score: 999999932\n",
      "Score: 505000000\n",
      "Total Score: 1505004548\n"
     ]
    }
   ],
   "source": [
    "import os\n",
    "import csv\n",
    "fileslist = []\n",
    "for file in os.listdir(\"./\"):\n",
    "    if file.endswith(\".in\"):\n",
    "        fileslist.append(file)\n",
    "Score = 0\n",
    "for fl in fileslist:\n",
    "    \n",
    "    lists = []\n",
    "    with open(fl, newline = '\\n') as data:\n",
    "        data_reader = csv.reader(data, delimiter=\" \")\n",
    "        for line in data_reader:\n",
    "            lists.append(line)\n",
    "\n",
    "    line1 = lists[0]\n",
    "\n",
    "    line2 = lists[1]\n",
    "\n",
    "    line2i = []\n",
    "    for x in line2:\n",
    "        line2i.append(int(x))\n",
    "    \n",
    "    line1i = []\n",
    "    for x in line1:\n",
    "        line1i.append(int(x))\n",
    "\n",
    "    sumvaluelist = []\n",
    "    type_of_pizza  = []\n",
    "\n",
    "    for i in range(-1,-len(line2i)-1,-1):\n",
    "    \n",
    "        sumvalue = 0\n",
    "        temp_type = []\n",
    "        for x in line2i[i::-1]:\n",
    "            sumvalue+=x\n",
    "        \n",
    "            if sumvalue == line1i[0]:\n",
    "                temp_type.append(x)\n",
    "            \n",
    "                break\n",
    "            if sumvalue > line1i[0]:\n",
    "                sumvalue -= x\n",
    "            \n",
    "                continue\n",
    "            if sumvalue < line1i[0]:\n",
    "                temp_type.append(x)\n",
    "            \n",
    "                continue # for less than sum value\n",
    "        type_of_pizza.append(temp_type)\n",
    "        sumvaluelist.append(sumvalue)\n",
    "    print(f\"Score: {max(sumvaluelist)}\")\n",
    "    Score += max(sumvaluelist)\n",
    "    index_final_type = sumvaluelist.index(max(sumvaluelist))\n",
    "    selected_pizzas  = type_of_pizza[index_final_type][::-1] # for reversing\n",
    "    wrtfile = [] \n",
    "    final_pizza_types =  0\n",
    "\n",
    "    for pizza in selected_pizzas:\n",
    "        if str(line2i.index(pizza)) not in wrtfile:\n",
    "            wrtfile.append(str(line2i.index(pizza)))\n",
    "    l1 = str(len(wrtfile))\n",
    "    l2 = wrtfile \n",
    "    with open(os.path.splitext(fl)[0]+\".out\", 'w+') as the_file:\n",
    "        the_file.write(l1)\n",
    "        the_file.write(\"\\n\")\n",
    "        for val in l2:\n",
    "            the_file.write(str(val))\n",
    "            the_file.write(\" \")\n",
    "print(f\"Total Score: {Score}\")"
   ]
  },
  {
   "cell_type": "code",
   "execution_count": 119,
   "metadata": {},
   "outputs": [
    {
     "data": {
      "text/plain": [
       "['a_example.in',\n",
       " 'b_small.in',\n",
       " 'c_medium.in',\n",
       " 'd_quite_big.in',\n",
       " 'e_also_big.in']"
      ]
     },
     "execution_count": 119,
     "metadata": {},
     "output_type": "execute_result"
    }
   ],
   "source": [
    "fileslist"
   ]
  },
  {
   "cell_type": "code",
   "execution_count": 123,
   "metadata": {},
   "outputs": [
    {
     "name": "stdout",
     "output_type": "stream",
     "text": [
      "a_example.out\n",
      "b_small.out\n",
      "c_medium.out\n",
      "d_quite_big.out\n",
      "e_also_big.out\n"
     ]
    }
   ],
   "source": [
    "for fl in fileslist:\n",
    "    print(os.path.splitext(fl)[0]+\".out\")"
   ]
  },
  {
   "cell_type": "code",
   "execution_count": null,
   "metadata": {},
   "outputs": [],
   "source": [
    "import os\n",
    "import csv\n",
    "fileslist = []\n",
    "for file in os.listdir(\"./\"):\n",
    "    if file.endswith(\".in\"):\n",
    "        fileslist.append(file)\n",
    "Score = 0\n",
    "for fl in fileslist:\n",
    "    \n",
    "    lists = []\n",
    "    with open(fl, newline = '\\n') as data:\n",
    "        data_reader = csv.reader(data, delimiter=\" \")\n",
    "        for line in data_reader:\n",
    "            lists.append(line)\n",
    "\n",
    "    line1 = lists[0]\n",
    "\n",
    "    line2 = lists[1]\n",
    "\n",
    "    line2i = []\n",
    "    for x in line2:\n",
    "        line2i.append(int(x))\n",
    "    \n",
    "    line1i = []\n",
    "    for x in line1:\n",
    "        line1i.append(int(x))\n",
    "\n",
    "    sumvaluelist = []\n",
    "    type_of_pizza  = []\n",
    "\n",
    "    for i in range(-1,-len(line2i)-1,-1):\n",
    "    \n",
    "        sumvalue = 0\n",
    "        temp_type = []\n",
    "        for x in line2i[i::-1]:\n",
    "            sumvalue+=x\n",
    "        \n",
    "            if sumvalue == line1i[0]:\n",
    "                temp_type.append(x)\n",
    "            \n",
    "                break\n",
    "            if sumvalue > line1i[0]:\n",
    "                sumvalue -= x\n",
    "            \n",
    "                continue\n",
    "            if sumvalue < line1i[0]:\n",
    "                temp_type.append(x)\n",
    "            \n",
    "                continue # for less than sum value\n",
    "        type_of_pizza.append(temp_type)\n",
    "        sumvaluelist.append(sumvalue)\n",
    "    print(f\"Score: {max(sumvaluelist)}\")\n",
    "    Score += max(sumvaluelist)\n",
    "    index_final_type = sumvaluelist.index(max(sumvaluelist))\n",
    "    selected_pizzas  = type_of_pizza[index_final_type][::-1] # for reversing\n",
    "    wrtfile = [] \n",
    "    final_pizza_types =  0\n",
    "\n",
    "    for pizza in selected_pizzas:\n",
    "        if str(line2i.index(pizza)) not in wrtfile:\n",
    "            wrtfile.append(str(line2i.index(pizza)))\n",
    "    l1 = str(len(wrtfile))\n",
    "    l2 = wrtfile \n",
    "    with open(os.path.splitext(fl)[0]+\".out\", 'w+') as the_file:\n",
    "        the_file.write(l1)\n",
    "        the_file.write(\"\\n\")\n",
    "        for val in l2:\n",
    "            the_file.write(str(val))\n",
    "            the_file.write(\" \")\n",
    "print(f\"Total Score: {Score}\")"
   ]
  },
  {
   "cell_type": "code",
   "execution_count": 17,
   "metadata": {},
   "outputs": [
    {
     "data": {
      "text/plain": [
       "[['17', '4'], ['2', '5', '6', '8']]"
      ]
     },
     "execution_count": 17,
     "metadata": {},
     "output_type": "execute_result"
    }
   ],
   "source": [
    "lists"
   ]
  },
  {
   "cell_type": "code",
   "execution_count": 34,
   "metadata": {},
   "outputs": [],
   "source": [
    "import os\n",
    "import csv\n",
    "fileslist = []\n",
    "for file in os.listdir(\"./\"):\n",
    "    if file.endswith(\".in\"):\n",
    "        fileslist.append(file)\n",
    "Score = 0\n",
    "for fl in fileslist:\n",
    "    \n",
    "    lists = []\n",
    "    with open(fl, newline = '\\n') as data:\n",
    "        data_reader = csv.reader(data, delimiter=\" \")\n",
    "        for line in data_reader:\n",
    "            lists.append(line)\n",
    "        \n",
    "    ms = lists[0][0] # max number of slice we can have\n",
    "    ms = int(ms)\n",
    "\n",
    "    tp = lists[0][1] #total number of pizza we can have\n",
    "    tp = int(tp)\n",
    "\n",
    "    w = lists[1]\n",
    "    \n",
    "\n",
    "    #changing string in w to integer\n",
    "    for i in range(len(w)):\n",
    "        w[i] = int(w[i])    \n",
    "\n",
    "\n",
    "    ind = list()\n",
    "    lind = list()\n",
    "    los = list()\n",
    "\n",
    "    for j in range(len(w)):\n",
    "        s =0\n",
    "        ind = []\n",
    "        #print(j)\n",
    "        for i in range(len(w)-1-j,-1,-1):\n",
    "            #print(i)\n",
    "            s += w[i]\n",
    "\n",
    "            if s < ms:\n",
    "                ind.append(i)\n",
    "                continue\n",
    "    \n",
    "            elif s == ms:\n",
    "                ind.append(i)\n",
    "                break\n",
    "        \n",
    "            elif s > ms:\n",
    "                s -= w[i]\n",
    "        #print()        \n",
    "        los.append(s)        \n",
    "        lind.append(ind)       \n",
    "        \n",
    "    \n",
    "\n",
    "    oss = max(los) # it the total number of slice we wil order\n",
    "    \n",
    "\n",
    "    d = los.index(oss)# index of max number of slice\n",
    "    \n",
    "\n",
    "    e =lind[d] #e is final indexes for slices\n",
    "    e.sort()\n",
    "    \n",
    "    with open(os.path.splitext(fl)[0]+\".out\", 'w+') as the_file:\n",
    "        the_file.write(str(len(e)))\n",
    "        the_file.write(\"\\n\")\n",
    "        for val in e:\n",
    "            the_file.write(str(val))\n",
    "            the_file.write(\" \")"
   ]
  },
  {
   "cell_type": "code",
   "execution_count": 31,
   "metadata": {},
   "outputs": [
    {
     "data": {
      "text/plain": [
       "False"
      ]
     },
     "execution_count": 31,
     "metadata": {},
     "output_type": "execute_result"
    }
   ],
   "source": [
    "len(lind) == oss "
   ]
  },
  {
   "cell_type": "code",
   "execution_count": null,
   "metadata": {},
   "outputs": [],
   "source": []
  },
  {
   "cell_type": "code",
   "execution_count": null,
   "metadata": {},
   "outputs": [],
   "source": []
  }
 ],
 "metadata": {
  "kernelspec": {
   "display_name": "Python 3",
   "language": "python",
   "name": "python3"
  },
  "language_info": {
   "codemirror_mode": {
    "name": "ipython",
    "version": 3
   },
   "file_extension": ".py",
   "mimetype": "text/x-python",
   "name": "python",
   "nbconvert_exporter": "python",
   "pygments_lexer": "ipython3",
   "version": "3.7.3"
  }
 },
 "nbformat": 4,
 "nbformat_minor": 2
}
