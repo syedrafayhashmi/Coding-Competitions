{
 "cells": [
  {
   "cell_type": "code",
   "execution_count": 13,
   "metadata": {},
   "outputs": [],
   "source": [
    "lists = []\n",
    "import csv\n",
    "with open(\"./a_example.in\", newline = '\\n') as data:\n",
    "    data_reader = csv.reader(data, delimiter=\" \")\n",
    "    for line in data_reader:\n",
    "        lists.append(line)"
   ]
  },
  {
   "cell_type": "code",
   "execution_count": 14,
   "metadata": {},
   "outputs": [
    {
     "data": {
      "text/plain": [
       "['17', '4']"
      ]
     },
     "execution_count": 14,
     "metadata": {},
     "output_type": "execute_result"
    }
   ],
   "source": [
    "line1 = lists[0]\n",
    "line1"
   ]
  },
  {
   "cell_type": "code",
   "execution_count": 15,
   "metadata": {},
   "outputs": [],
   "source": [
    "line2 = lists[1]\n"
   ]
  },
  {
   "cell_type": "code",
   "execution_count": 16,
   "metadata": {},
   "outputs": [],
   "source": [
    "\n",
    "for x in line2[::-1]:\n",
    "    pass\n"
   ]
  },
  {
   "cell_type": "code",
   "execution_count": 17,
   "metadata": {},
   "outputs": [],
   "source": [
    "line2i = []\n",
    "for x in line2:\n",
    "    line2i.append(int(x))\n"
   ]
  },
  {
   "cell_type": "code",
   "execution_count": 18,
   "metadata": {},
   "outputs": [
    {
     "data": {
      "text/plain": [
       "[17, 4]"
      ]
     },
     "execution_count": 18,
     "metadata": {},
     "output_type": "execute_result"
    }
   ],
   "source": [
    "line1i = []\n",
    "for x in line1:\n",
    "    line1i.append(int(x))\n",
    "line1i"
   ]
  },
  {
   "cell_type": "code",
   "execution_count": null,
   "metadata": {},
   "outputs": [],
   "source": []
  },
  {
   "cell_type": "code",
   "execution_count": 19,
   "metadata": {},
   "outputs": [
    {
     "name": "stdout",
     "output_type": "stream",
     "text": [
      "16\n"
     ]
    }
   ],
   "source": [
    "sumvaluelist = []\n",
    "for i in range(-1,-len(line2i)-1,-1):\n",
    "    sumvalue = 0\n",
    "    for x in line2i[i::-1]:\n",
    "        sumvalue+=x\n",
    "        if sumvalue == line1i[0]:\n",
    "            break\n",
    "        if sumvalue > line1i[0]:\n",
    "            sumvalue -= x\n",
    "            continue\n",
    "        if sumvalue < line1i[0]:\n",
    "            continue # for less than sum value\n",
    "    sumvaluelist.append(sumvalue)\n",
    "print(max(sumvaluelist))\n",
    "\n",
    "    \n",
    "    "
   ]
  },
  {
   "cell_type": "code",
   "execution_count": 115,
   "metadata": {},
   "outputs": [
    {
     "name": "stdout",
     "output_type": "stream",
     "text": [
      "Score: 16\n"
     ]
    }
   ],
   "source": [
    "fileslist = []\n",
    "lists = []\n",
    "import csv\n",
    "with open(\"./a_example.in\", newline = '\\n') as data:\n",
    "    data_reader = csv.reader(data, delimiter=\" \")\n",
    "    for line in data_reader:\n",
    "        lists.append(line)\n",
    "\n",
    "line1 = lists[0]\n",
    "\n",
    "line2 = lists[1]\n",
    "\n",
    "line2i = []\n",
    "for x in line2:\n",
    "    line2i.append(int(x))\n",
    "    \n",
    "line1i = []\n",
    "for x in line1:\n",
    "    line1i.append(int(x))\n",
    "\n",
    "sumvaluelist = []\n",
    "type_of_pizza  = []\n",
    "\n",
    "for i in range(-1,-len(line2i)-1,-1):\n",
    "    \n",
    "    sumvalue = 0\n",
    "    temp_type = []\n",
    "    for x in line2i[i::-1]:\n",
    "        sumvalue+=x\n",
    "        \n",
    "        if sumvalue == line1i[0]:\n",
    "            temp_type.append(x)\n",
    "            \n",
    "            break\n",
    "        if sumvalue > line1i[0]:\n",
    "            sumvalue -= x\n",
    "            \n",
    "            continue\n",
    "        if sumvalue < line1i[0]:\n",
    "            temp_type.append(x)\n",
    "            \n",
    "            continue # for less than sum value\n",
    "    type_of_pizza.append(temp_type)\n",
    "    sumvaluelist.append(sumvalue)\n",
    "print(f\"Score: {max(sumvaluelist)}\")\n",
    "index_final_type = sumvaluelist.index(max(sumvaluelist))\n",
    "selected_pizzas  = type_of_pizza[index_final_type][::-1] # for reversing\n",
    "wrtfile = [] \n",
    "final_pizza_types =  0\n",
    "\n",
    "for pizza in selected_pizzas:\n",
    "    wrtfile.append(str(line2i.index(pizza)))\n",
    "l1 = str(len(wrtfile))\n",
    "l2 = wrtfile \n",
    "with open('a_example.out', 'w+') as the_file:\n",
    "    the_file.write(l1)\n",
    "    the_file.write(\"\\n\")\n",
    "    for val in l2:\n",
    "        the_file.write(str(val))\n",
    "        the_file.write(\" \")\n"
   ]
  },
  {
   "cell_type": "code",
   "execution_count": 110,
   "metadata": {},
   "outputs": [
    {
     "data": {
      "text/plain": [
       "['0', '2', '3']"
      ]
     },
     "execution_count": 110,
     "metadata": {},
     "output_type": "execute_result"
    }
   ],
   "source": [
    "l2"
   ]
  },
  {
   "cell_type": "code",
   "execution_count": 118,
   "metadata": {},
   "outputs": [
    {
     "name": "stdout",
     "output_type": "stream",
     "text": [
      "Score: 16\n",
      "['a_example.in', 'b_small.in', 'c_medium.in', 'd_quite_big.in', 'e_also_big.in']\n"
     ]
    }
   ],
   "source": [
    "import os\n",
    "import csv\n",
    "fileslist = []\n",
    "lists = []\n",
    "\n",
    "for file in os.listdir(\"./\"):\n",
    "    if file.endswith(\".in\"):\n",
    "        fileslist.append(file)\n",
    "for fl in fileslist:\n",
    "    \n",
    "    \n",
    "with open(fl, newline = '\\n') as data:\n",
    "    data_reader = csv.reader(data, delimiter=\" \")\n",
    "    for line in data_reader:\n",
    "        lists.append(line)\n",
    "\n",
    "line1 = lists[0]\n",
    "\n",
    "line2 = lists[1]\n",
    "\n",
    "line2i = []\n",
    "for x in line2:\n",
    "    line2i.append(int(x))\n",
    "    \n",
    "line1i = []\n",
    "for x in line1:\n",
    "    line1i.append(int(x))\n",
    "\n",
    "sumvaluelist = []\n",
    "type_of_pizza  = []\n",
    "\n",
    "for i in range(-1,-len(line2i)-1,-1):\n",
    "    \n",
    "    sumvalue = 0\n",
    "    temp_type = []\n",
    "    for x in line2i[i::-1]:\n",
    "        sumvalue+=x\n",
    "        \n",
    "        if sumvalue == line1i[0]:\n",
    "            temp_type.append(x)\n",
    "            \n",
    "            break\n",
    "        if sumvalue > line1i[0]:\n",
    "            sumvalue -= x\n",
    "            \n",
    "            continue\n",
    "        if sumvalue < line1i[0]:\n",
    "            temp_type.append(x)\n",
    "            \n",
    "            continue # for less than sum value\n",
    "    type_of_pizza.append(temp_type)\n",
    "    sumvaluelist.append(sumvalue)\n",
    "print(f\"Score: {max(sumvaluelist)}\")\n",
    "index_final_type = sumvaluelist.index(max(sumvaluelist))\n",
    "selected_pizzas  = type_of_pizza[index_final_type][::-1] # for reversing\n",
    "wrtfile = [] \n",
    "final_pizza_types =  0\n",
    "\n",
    "for pizza in selected_pizzas:\n",
    "    wrtfile.append(str(line2i.index(pizza)))\n",
    "l1 = str(len(wrtfile))\n",
    "l2 = wrtfile \n",
    "with open(fl, 'w+') as the_file:\n",
    "    the_file.write(l1)\n",
    "    the_file.write(\"\\n\")\n",
    "    for val in l2:\n",
    "        the_file.write(str(val))\n",
    "        the_file.write(\" \")\n"
   ]
  },
  {
   "cell_type": "code",
   "execution_count": 119,
   "metadata": {},
   "outputs": [
    {
     "data": {
      "text/plain": [
       "['a_example.in',\n",
       " 'b_small.in',\n",
       " 'c_medium.in',\n",
       " 'd_quite_big.in',\n",
       " 'e_also_big.in']"
      ]
     },
     "execution_count": 119,
     "metadata": {},
     "output_type": "execute_result"
    }
   ],
   "source": [
    "fileslist"
   ]
  },
  {
   "cell_type": "code",
   "execution_count": 120,
   "metadata": {},
   "outputs": [
    {
     "name": "stdout",
     "output_type": "stream",
     "text": [
      "a_example.in\n",
      "b_small.in\n",
      "c_medium.in\n",
      "d_quite_big.in\n",
      "e_also_big.in\n"
     ]
    }
   ],
   "source": [
    "for fl in fileslist:\n",
    "    print(fl+)"
   ]
  },
  {
   "cell_type": "code",
   "execution_count": null,
   "metadata": {},
   "outputs": [],
   "source": []
  }
 ],
 "metadata": {
  "kernelspec": {
   "display_name": "Python 3",
   "language": "python",
   "name": "python3"
  },
  "language_info": {
   "codemirror_mode": {
    "name": "ipython",
    "version": 3
   },
   "file_extension": ".py",
   "mimetype": "text/x-python",
   "name": "python",
   "nbconvert_exporter": "python",
   "pygments_lexer": "ipython3",
   "version": "3.7.3"
  }
 },
 "nbformat": 4,
 "nbformat_minor": 2
}
