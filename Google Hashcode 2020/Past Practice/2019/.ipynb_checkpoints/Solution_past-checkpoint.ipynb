{
 "cells": [
  {
   "cell_type": "code",
   "execution_count": 1,
   "metadata": {},
   "outputs": [],
   "source": [
    "lists = []\n",
    "import csv\n",
    "with open(\"./qualification_round_2019.in/a_example.txt\", newline = '\\n') as data:\n",
    "    data_reader = csv.reader(data, delimiter=\" \")\n",
    "    for line in data_reader:\n",
    "        lists.append(line)"
   ]
  },
  {
   "cell_type": "code",
   "execution_count": 2,
   "metadata": {},
   "outputs": [
    {
     "data": {
      "text/plain": [
       "[['4'],\n",
       " ['H', '3', 'cat', 'beach', 'sun'],\n",
       " ['V', '2', 'selfie', 'smile'],\n",
       " ['V', '2', 'garden', 'selfie'],\n",
       " ['H', '2', 'garden', 'cat']]"
      ]
     },
     "execution_count": 2,
     "metadata": {},
     "output_type": "execute_result"
    }
   ],
   "source": [
    "lists"
   ]
  },
  {
   "cell_type": "code",
   "execution_count": 28,
   "metadata": {},
   "outputs": [
    {
     "name": "stdout",
     "output_type": "stream",
     "text": [
      "['H', '3', 'cat', 'beach', 'sun']\n",
      "yes\n",
      "yes\n",
      "yes\n",
      "['V', '2', 'selfie', 'smile']\n",
      "['V', '2', 'garden', 'selfie']\n",
      "['H', '2', 'garden', 'cat']\n",
      "yes\n",
      "yes\n"
     ]
    }
   ],
   "source": [
    "no_of_pic = int(lists[0][0])\n",
    "\n",
    "for pic in lists[1::]:\n",
    "    print(pic)\n",
    "    \n",
    "    for tag in pic[2::]:\n",
    "        if pic[0] == 'H' and tag in pic:\n",
    "            \n",
    "            print(\"yes\")\n",
    "        #print(tag)\n",
    "        #if tag in pic:\n",
    "            #print(tag)\n",
    "            #print(pic)\n",
    "            #pass\n"
   ]
  },
  {
   "cell_type": "code",
   "execution_count": 29,
   "metadata": {},
   "outputs": [
    {
     "name": "stdout",
     "output_type": "stream",
     "text": [
      "yes\n"
     ]
    }
   ],
   "source": [
    "if lists[1][2] in lists[4]:\n",
    "    print(\"yes\")"
   ]
  },
  {
   "cell_type": "code",
   "execution_count": 30,
   "metadata": {},
   "outputs": [
    {
     "data": {
      "text/plain": [
       "[['4'],\n",
       " ['H', '3', 'cat', 'beach', 'sun'],\n",
       " ['V', '2', 'selfie', 'smile'],\n",
       " ['V', '2', 'garden', 'selfie'],\n",
       " ['H', '2', 'garden', 'cat']]"
      ]
     },
     "execution_count": 30,
     "metadata": {},
     "output_type": "execute_result"
    }
   ],
   "source": [
    "lists"
   ]
  },
  {
   "cell_type": "code",
   "execution_count": 31,
   "metadata": {},
   "outputs": [],
   "source": [
    "#total number of slides\n",
    "no_of_slides = 0\n",
    "for pic in lists[1::]:\n",
    "    if pic[0] == 'H':\n",
    "        no_of_slides += 1\n",
    "    if pic[0] =='V':\n",
    "        no_of_slides += 0.5"
   ]
  },
  {
   "cell_type": "code",
   "execution_count": 32,
   "metadata": {},
   "outputs": [
    {
     "data": {
      "text/plain": [
       "3.0"
      ]
     },
     "execution_count": 32,
     "metadata": {},
     "output_type": "execute_result"
    }
   ],
   "source": [
    "no_of_slides"
   ]
  },
  {
   "cell_type": "code",
   "execution_count": null,
   "metadata": {},
   "outputs": [],
   "source": []
  }
 ],
 "metadata": {
  "kernelspec": {
   "display_name": "Python 3",
   "language": "python",
   "name": "python3"
  },
  "language_info": {
   "codemirror_mode": {
    "name": "ipython",
    "version": 3
   },
   "file_extension": ".py",
   "mimetype": "text/x-python",
   "name": "python",
   "nbconvert_exporter": "python",
   "pygments_lexer": "ipython3",
   "version": "3.7.3"
  }
 },
 "nbformat": 4,
 "nbformat_minor": 2
}
