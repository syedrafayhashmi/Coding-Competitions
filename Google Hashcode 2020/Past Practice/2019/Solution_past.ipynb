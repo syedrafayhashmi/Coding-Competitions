{
 "cells": [
  {
   "cell_type": "code",
   "execution_count": 67,
   "metadata": {},
   "outputs": [],
   "source": [
    "lists = []\n",
    "import csv\n",
    "with open(\"./qualification_round_2019.in/a_example.txt\", newline = '\\n') as data:\n",
    "    data_reader = csv.reader(data, delimiter=\" \")\n",
    "    for line in data_reader:\n",
    "        lists.append(line)"
   ]
  },
  {
   "cell_type": "code",
   "execution_count": 68,
   "metadata": {},
   "outputs": [
    {
     "data": {
      "text/plain": [
       "[['4'],\n",
       " ['H', '3', 'cat', 'beach', 'sun'],\n",
       " ['V', '2', 'selfie', 'smile'],\n",
       " ['V', '2', 'garden', 'selfie'],\n",
       " ['H', '2', 'garden', 'cat']]"
      ]
     },
     "execution_count": 68,
     "metadata": {},
     "output_type": "execute_result"
    }
   ],
   "source": [
    "lists"
   ]
  },
  {
   "cell_type": "code",
   "execution_count": 69,
   "metadata": {},
   "outputs": [
    {
     "name": "stdout",
     "output_type": "stream",
     "text": [
      "['H', '3', 'cat', 'beach', 'sun']\n",
      "yes\n",
      "yes\n",
      "yes\n",
      "['V', '2', 'selfie', 'smile']\n",
      "['V', '2', 'garden', 'selfie']\n",
      "['H', '2', 'garden', 'cat']\n",
      "yes\n",
      "yes\n"
     ]
    }
   ],
   "source": [
    "no_of_pic = int(lists[0][0])\n",
    "\n",
    "for pic in lists[1::]:\n",
    "    print(pic)\n",
    "    \n",
    "    for tag in pic[2::]:\n",
    "        if pic[0] == 'H' and tag in pic:\n",
    "            \n",
    "            print(\"yes\")\n",
    "        #print(tag)\n",
    "        #if tag in pic:\n",
    "            #print(tag)\n",
    "            #print(pic)\n",
    "            #pass\n"
   ]
  },
  {
   "cell_type": "code",
   "execution_count": 70,
   "metadata": {},
   "outputs": [
    {
     "name": "stdout",
     "output_type": "stream",
     "text": [
      "yes\n"
     ]
    }
   ],
   "source": [
    "if lists[1][2] in lists[4]:\n",
    "    print(\"yes\")"
   ]
  },
  {
   "cell_type": "code",
   "execution_count": 71,
   "metadata": {},
   "outputs": [
    {
     "data": {
      "text/plain": [
       "[['4'],\n",
       " ['H', '3', 'cat', 'beach', 'sun'],\n",
       " ['V', '2', 'selfie', 'smile'],\n",
       " ['V', '2', 'garden', 'selfie'],\n",
       " ['H', '2', 'garden', 'cat']]"
      ]
     },
     "execution_count": 71,
     "metadata": {},
     "output_type": "execute_result"
    }
   ],
   "source": [
    "lists"
   ]
  },
  {
   "cell_type": "code",
   "execution_count": 72,
   "metadata": {},
   "outputs": [],
   "source": [
    "#total number of slides\n",
    "no_of_slides = 0\n",
    "for pic in lists[1::]:\n",
    "    if pic[0] == 'H':\n",
    "        no_of_slides += 1\n",
    "    if pic[0] =='V':\n",
    "        no_of_slides += 0.5"
   ]
  },
  {
   "cell_type": "code",
   "execution_count": 73,
   "metadata": {},
   "outputs": [
    {
     "data": {
      "text/plain": [
       "3"
      ]
     },
     "execution_count": 73,
     "metadata": {},
     "output_type": "execute_result"
    }
   ],
   "source": [
    "no_of_slides = int(no_of_slides)\n",
    "no_of_slides"
   ]
  },
  {
   "cell_type": "code",
   "execution_count": 74,
   "metadata": {},
   "outputs": [
    {
     "data": {
      "text/plain": [
       "{1, 2}"
      ]
     },
     "execution_count": 74,
     "metadata": {},
     "output_type": "execute_result"
    }
   ],
   "source": [
    "s = {5,4,3}\n",
    "b = set([5,4,3,2,1])\n",
    "s.symmetric_difference(b)"
   ]
  },
  {
   "cell_type": "code",
   "execution_count": 75,
   "metadata": {},
   "outputs": [
    {
     "data": {
      "text/plain": [
       "[['H', '3', 'cat', 'beach', 'sun', 0, 0],\n",
       " ['V', '2', 'selfie', 'smile', 0, 1],\n",
       " ['V', '2', 'garden', 'selfie', 0, 2],\n",
       " ['H', '2', 'garden', 'cat', 0, 3]]"
      ]
     },
     "execution_count": 75,
     "metadata": {},
     "output_type": "execute_result"
    }
   ],
   "source": [
    "pics"
   ]
  },
  {
   "cell_type": "code",
   "execution_count": 82,
   "metadata": {},
   "outputs": [],
   "source": [
    "for i in range(len(pics)):\n",
    "    pics[i].append(i)"
   ]
  },
  {
   "cell_type": "code",
   "execution_count": null,
   "metadata": {},
   "outputs": [],
   "source": []
  },
  {
   "cell_type": "code",
   "execution_count": 83,
   "metadata": {},
   "outputs": [],
   "source": [
    "#pics = lists[1:]\n",
    "#display(pics)\n",
    "#for x in range(len(pics)):\n",
    "    #print(tags[2:])\n",
    "    #for tag in (tags[2:]):\n",
    "        #print(tag)"
   ]
  },
  {
   "cell_type": "code",
   "execution_count": 84,
   "metadata": {},
   "outputs": [],
   "source": [
    "pics = lists[1:]\n",
    "h_list = []\n",
    "v_list = []\n",
    "for x in range(len(pics)):\n",
    "        if pics[x][0] == 'H':\n",
    "            h_list.append(pics[x])\n",
    "        else:\n",
    "            v_list.append(pics[x])"
   ]
  },
  {
   "cell_type": "code",
   "execution_count": 85,
   "metadata": {},
   "outputs": [
    {
     "data": {
      "text/plain": [
       "[['H', '3', 'cat', 'beach', 'sun', 0],\n",
       " ['V', '2', 'selfie', 'smile', 1],\n",
       " ['V', '2', 'garden', 'selfie', 2],\n",
       " ['H', '2', 'garden', 'cat', 3]]"
      ]
     },
     "execution_count": 85,
     "metadata": {},
     "output_type": "execute_result"
    }
   ],
   "source": [
    "pics"
   ]
  },
  {
   "cell_type": "code",
   "execution_count": 86,
   "metadata": {},
   "outputs": [
    {
     "data": {
      "text/plain": [
       "[['H', '3', 'cat', 'beach', 'sun', 0], ['H', '2', 'garden', 'cat', 3]]"
      ]
     },
     "execution_count": 86,
     "metadata": {},
     "output_type": "execute_result"
    }
   ],
   "source": [
    "h_list"
   ]
  },
  {
   "cell_type": "code",
   "execution_count": 87,
   "metadata": {},
   "outputs": [
    {
     "data": {
      "text/plain": [
       "[['V', '2', 'selfie', 'smile', 1], ['V', '2', 'garden', 'selfie', 2]]"
      ]
     },
     "execution_count": 87,
     "metadata": {},
     "output_type": "execute_result"
    }
   ],
   "source": [
    "v_list"
   ]
  },
  {
   "cell_type": "code",
   "execution_count": 89,
   "metadata": {},
   "outputs": [
    {
     "name": "stdout",
     "output_type": "stream",
     "text": [
      "['selfie', 'smile']\n",
      "['garden', 'selfie']\n"
     ]
    }
   ],
   "source": [
    "for p in range(len(v_list)):\n",
    "    print(v_list[p][2:-1])"
   ]
  },
  {
   "cell_type": "code",
   "execution_count": null,
   "metadata": {},
   "outputs": [],
   "source": []
  }
 ],
 "metadata": {
  "kernelspec": {
   "display_name": "Python 3",
   "language": "python",
   "name": "python3"
  },
  "language_info": {
   "codemirror_mode": {
    "name": "ipython",
    "version": 3
   },
   "file_extension": ".py",
   "mimetype": "text/x-python",
   "name": "python",
   "nbconvert_exporter": "python",
   "pygments_lexer": "ipython3",
   "version": "3.7.3"
  }
 },
 "nbformat": 4,
 "nbformat_minor": 2
}
